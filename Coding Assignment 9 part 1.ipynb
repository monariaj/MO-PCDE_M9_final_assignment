{
 "cells": [
  {
   "cell_type": "markdown",
   "id": "1735375b",
   "metadata": {},
   "source": [
    "# Coding Assignment 9\n",
    "## Mona Ria Stanton"
   ]
  },
  {
   "cell_type": "code",
   "execution_count": 31,
   "id": "4aeb0282-770b-4d93-8d65-a589a4ab641a",
   "metadata": {},
   "outputs": [
    {
     "name": "stdout",
     "output_type": "stream",
     "text": [
      "<class 'type'>\n",
      "__main__\n"
     ]
    }
   ],
   "source": [
    "class Student:\n",
    "    pass  \n",
    "ans1a = type(Student)\n",
    "ans1b = Student.__module__\n",
    "print(ans1a)\n",
    "print(ans1b)"
   ]
  },
  {
   "cell_type": "code",
   "execution_count": 33,
   "id": "d7a137c5-979d-4fc4-bd99-dba6809498c5",
   "metadata": {},
   "outputs": [
    {
     "name": "stdout",
     "output_type": "stream",
     "text": [
      "John Smith\n"
     ]
    }
   ],
   "source": [
    "class Student:\n",
    "    student_name = 'John Smith'\n",
    "    grade = 86\n",
    "    \n",
    "ans2a = Student.student_name\n",
    "print(ans2a)"
   ]
  },
  {
   "cell_type": "code",
   "execution_count": 35,
   "id": "bf82e77b-74b7-4acb-b8a0-e231053331a8",
   "metadata": {},
   "outputs": [
    {
     "name": "stdout",
     "output_type": "stream",
     "text": [
      "None\n"
     ]
    }
   ],
   "source": [
    "ans3a = setattr(Student, 'student_name', 'Angela Brooks')\n",
    "ans3a = setattr(Student, 'grade', 87)\n",
    "print(ans3a)"
   ]
  },
  {
   "cell_type": "code",
   "execution_count": 39,
   "id": "a110cea2-a7a4-4761-8380-09ac0d37a88b",
   "metadata": {},
   "outputs": [
    {
     "name": "stdout",
     "output_type": "stream",
     "text": [
      "<__main__.Student object at 0x146612a80>\n"
     ]
    }
   ],
   "source": [
    "class Student:\n",
    "    def __init__(self, student_name, student_id, grade, email):\n",
    "        self.student_name = student_name\n",
    "        self.student_id = student_id\n",
    "        self.grade = grade\n",
    "        self.email = email\n",
    "    \n",
    "ans4 = Student(\"Francis Green\", 475895, 56, \"francisgreen@mit.edu\")\n",
    "print(ans4)"
   ]
  },
  {
   "cell_type": "code",
   "execution_count": 41,
   "id": "43c8f852-1b4a-4787-ad9a-f411e2e5495a",
   "metadata": {},
   "outputs": [
    {
     "name": "stdout",
     "output_type": "stream",
     "text": [
      "<__main__.Student object at 0x146612000>\n",
      "67.2\n"
     ]
    }
   ],
   "source": [
    "class Student:\n",
    "    def __init__(self, student_name, student_id, grade, email):\n",
    "        self.student_name = student_name\n",
    "        self.student_id = student_id\n",
    "        self.grade = grade\n",
    "        self.email = email\n",
    "        \n",
    "    def curved_average(self):\n",
    "        updated_grade = self.grade *1.2\n",
    "        return updated_grade\n",
    "        \n",
    "ans4 = Student(\"Francis Green\", 475895, 56, \"francisgreen@mit.edu\")\n",
    "ans5 = ans4.curved_average()\n",
    "print(ans4)\n",
    "print(ans5)"
   ]
  },
  {
   "cell_type": "code",
   "execution_count": 43,
   "id": "33f98df6-0ef2-448f-af54-ba710ea84526",
   "metadata": {},
   "outputs": [
    {
     "name": "stdout",
     "output_type": "stream",
     "text": [
      "25\n",
      "22\n"
     ]
    }
   ],
   "source": [
    "def my_sum(*args):\n",
    "    result = 0\n",
    "    # Iterating over the Python args tuple\n",
    "    for x in args:\n",
    "        result += x\n",
    "    return result\n",
    "\n",
    "ans6a = my_sum(1,3,5,6,10)\n",
    "ans6b = my_sum(10,4,6,2)\n",
    "print(ans6a)\n",
    "print(ans6b)"
   ]
  },
  {
   "cell_type": "code",
   "execution_count": 45,
   "id": "b95fee8f-747e-4217-a65d-48d932d52f06",
   "metadata": {},
   "outputs": [
    {
     "name": "stdout",
     "output_type": "stream",
     "text": [
      "79.25\n",
      "80.25\n"
     ]
    }
   ],
   "source": [
    "def my_average(*args):\n",
    "    result = 0\n",
    "    # Iterating over the Python args tuple\n",
    "    for x in args:\n",
    "        result += x\n",
    "    result = result/len(args)\n",
    "    return result\n",
    "\n",
    "ans7a = my_average(78,82,91,66)\n",
    "ans7b = my_average(56,89,76,100)\n",
    "print(ans7a)\n",
    "print(ans7b)"
   ]
  },
  {
   "cell_type": "code",
   "execution_count": 47,
   "id": "0b419dc2-ad8d-4aa2-aba2-334d89837306",
   "metadata": {},
   "outputs": [
    {
     "name": "stdout",
     "output_type": "stream",
     "text": [
      "Profession is Data Scientist\n",
      "Phone_Number is 4659874982\n"
     ]
    }
   ],
   "source": [
    "def print_last_info(**data):\n",
    "\n",
    "    for key, value in data.items():\n",
    "        string = (\"{} is {}\".format(key,value))\n",
    "    return string\n",
    "\n",
    "ans8a = print_last_info(Name= \"Rosie\", Age= 33, Profession= \"Data Scientist\")\n",
    "ans8b = print_last_info(Name= \"Kyle\", Age= 28, Profession= \"Data Engineer\", Phone_Number=4659874982)\n",
    "print(ans8a)\n",
    "print(ans8b)"
   ]
  },
  {
   "cell_type": "code",
   "execution_count": 49,
   "id": "027c5cb7-5e32-4ad4-b7de-a8c8f93211b0",
   "metadata": {},
   "outputs": [
    {
     "name": "stdout",
     "output_type": "stream",
     "text": [
      "Title: Inception\n",
      "Title: Inception\n"
     ]
    }
   ],
   "source": [
    "movie = {\"Title\":\"Inception\", \"Director\": \"Nolan\", \"Year\":2010}\n",
    "def print_movie(**kwargs):\n",
    "    for key, value in kwargs.items():\n",
    "        string = f\"{key}: {value}\"\n",
    "        return string\n",
    "        \n",
    "ans9a = print_movie(**movie)\n",
    "ans9b = print_movie(**movie, Music = \"Zimmer\")\n",
    "print(ans9a)\n",
    "print(ans9b)"
   ]
  },
  {
   "cell_type": "code",
   "execution_count": 51,
   "id": "de5d88ae-61e6-4810-94b2-928a6726b3ee",
   "metadata": {},
   "outputs": [
    {
     "name": "stdout",
     "output_type": "stream",
     "text": [
      "8\n"
     ]
    }
   ],
   "source": [
    "def plus_one(number):\n",
    "    def add_one(number):\n",
    "        return number + 1\n",
    "\n",
    "\n",
    "    result = add_one(number)\n",
    "    return result\n",
    "ans10 = plus_one(7)\n",
    "print(ans10)"
   ]
  },
  {
   "cell_type": "code",
   "execution_count": 53,
   "id": "78a3a9aa-0660-4463-960d-86e4ac763116",
   "metadata": {},
   "outputs": [
    {
     "name": "stdout",
     "output_type": "stream",
     "text": [
      "HELLO THERE!\n"
     ]
    }
   ],
   "source": [
    "def uppercase_decorator(function):\n",
    "    def wrapper():\n",
    "        func = function()\n",
    "        make_uppercase = func.upper()\n",
    "        return make_uppercase\n",
    "\n",
    "    return wrapper\n",
    "@uppercase_decorator\n",
    "def say_hello():\n",
    "    return 'hello there!'\n",
    "\n",
    "ans11 = say_hello()\n",
    "print(ans11)"
   ]
  },
  {
   "cell_type": "code",
   "execution_count": 55,
   "id": "4cf96bd8-973c-4862-be69-1de3b1f40de2",
   "metadata": {},
   "outputs": [
    {
     "name": "stdout",
     "output_type": "stream",
     "text": [
      "My arguments are: Paris, New York\n",
      "Cities I love are Paris and New York\n",
      "None\n"
     ]
    }
   ],
   "source": [
    "def decorator_with_arguments(function):\n",
    "    def wrapper_accepting_arguments(arg1, arg2):\n",
    "        print(\"My arguments are: {0}, {1}\".format(arg1,arg2))\n",
    "        function(arg1, arg2)\n",
    "    return wrapper_accepting_arguments\n",
    "\n",
    "\n",
    "@decorator_with_arguments\n",
    "def cities(city_one, city_two):\n",
    "    print(\"Cities I love are {0} and {1}\".format(city_one, city_two))\n",
    "\n",
    "ans12 = cities(\"Paris\", \"New York\")\n",
    "print(ans12)"
   ]
  },
  {
   "cell_type": "code",
   "execution_count": 57,
   "id": "28bab9e8-6e41-41df-b8bf-632f119d2860",
   "metadata": {},
   "outputs": [
    {
     "name": "stdout",
     "output_type": "stream",
     "text": [
      "The positional arguments are (1, 2, 3)\n",
      "None\n"
     ]
    }
   ],
   "source": [
    "def decorator_passing_arbitrary_arguments(function_to_decorate):\n",
    "    def wrapper_accepting_arbitrary_arguments(*args):\n",
    "        print('The positional arguments are', args)\n",
    "        function_to_decorate(*args)\n",
    "    return wrapper_accepting_arbitrary_arguments\n",
    "\n",
    "@decorator_passing_arbitrary_arguments\n",
    "def function_with_arguments(a, b, c):\n",
    "    return a, b, c\n",
    "\n",
    "ans13 = function_with_arguments(1,2,3)\n",
    "print(ans13)"
   ]
  },
  {
   "cell_type": "code",
   "execution_count": null,
   "id": "68ccd1f8-a552-419a-88f3-0571467cedba",
   "metadata": {},
   "outputs": [],
   "source": []
  }
 ],
 "metadata": {
  "kernelspec": {
   "display_name": "Python 3 (ipykernel)",
   "language": "python",
   "name": "python3"
  },
  "language_info": {
   "codemirror_mode": {
    "name": "ipython",
    "version": 3
   },
   "file_extension": ".py",
   "mimetype": "text/x-python",
   "name": "python",
   "nbconvert_exporter": "python",
   "pygments_lexer": "ipython3",
   "version": "3.12.4"
  }
 },
 "nbformat": 4,
 "nbformat_minor": 5
}
